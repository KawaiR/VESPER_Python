{
 "cells": [
  {
   "cell_type": "code",
   "execution_count": 2,
   "id": "initial_id",
   "metadata": {
    "collapsed": true,
    "is_executing": true
   },
   "outputs": [],
   "source": [
    "from map import EMmap, unify_dims\n",
    "import os\n",
    "from enum import Enum\n",
    "from fitter import MapFitter\n",
    "import torch"
   ]
  },
  {
   "cell_type": "code",
   "execution_count": 3,
   "id": "e91a44368c71b1b9",
   "metadata": {
    "collapsed": false
   },
   "outputs": [],
   "source": [
    "class Mode(Enum):\n",
    "    V = \"VecProduct\"\n",
    "    O = \"Overlap\"\n",
    "    C = \"CC\"\n",
    "    P = \"PCC\"\n",
    "    L = \"Laplacian\""
   ]
  },
  {
   "cell_type": "code",
   "execution_count": 4,
   "id": "66b8ca54",
   "metadata": {},
   "outputs": [],
   "source": [
    "os.environ[\"CUDA_VISIBLE_DEVICES\"] = str(0)\n",
    "device = torch.device(\"cuda:0\")"
   ]
  },
  {
   "cell_type": "code",
   "execution_count": 5,
   "id": "792a6205",
   "metadata": {},
   "outputs": [
    {
     "name": "stderr",
     "output_type": "stream",
     "text": [
      "/home/kihara/zhu773/.virtualenvs/VESPER_CUDA/lib/python3.10/site-packages/mrcfile/mrcinterpreter.py:219: RuntimeWarning: Unrecognised machine stamp: 0x00 0x00 0x44 0x44\n",
      "  warnings.warn(str(err), RuntimeWarning)\n"
     ]
    }
   ],
   "source": [
    "ref_map = EMmap(\"/net/kihara-fast-scratch/wang3702/DiffModeler/Predict_Result/11237/structure_assembling/iterative_M/segment_map_small.mrc\")\n",
    "tgt_map = EMmap(\"/net/kihara-fast-scratch/wang3702/DiffModeler/Predict_Result/11237/structure_assembling/iterative_M/simumap_backbone_1A.mrc\")"
   ]
  },
  {
   "cell_type": "code",
   "execution_count": 6,
   "id": "8834f319",
   "metadata": {},
   "outputs": [],
   "source": [
    "modeVal = Mode[\"C\"].value"
   ]
  },
  {
   "cell_type": "code",
   "execution_count": 7,
   "id": "f0c47290",
   "metadata": {},
   "outputs": [
    {
     "name": "stdout",
     "output_type": "stream",
     "text": [
      "\n",
      "#dmax=39.131189606246316\n",
      "Nvox= 39, 39, 39\n",
      "cent= 420.0, 461.5, 361.0\n",
      "ori= 381.0, 422.5, 322.0\n",
      "\n",
      "#dmax=36.96281915655244\n",
      "Nvox= 36, 36, 36\n",
      "cent= 422.5, 461.0, 360.5\n",
      "ori= 386.5, 425.0, 324.5\n"
     ]
    }
   ],
   "source": [
    "ref_map.set_vox_size(thr=0.1, voxel_size=2)\n",
    "tgt_map.set_vox_size(thr=0.01, voxel_size=2)"
   ]
  },
  {
   "cell_type": "code",
   "execution_count": 8,
   "id": "99a4a515",
   "metadata": {},
   "outputs": [],
   "source": [
    "unify_dims([ref_map, tgt_map], voxel_size=2)"
   ]
  },
  {
   "cell_type": "code",
   "execution_count": 9,
   "id": "bb322e38",
   "metadata": {},
   "outputs": [
    {
     "name": "stdout",
     "output_type": "stream",
     "text": [
      "\n",
      "###Processing Reference Map Resampling###\n",
      "#maxd= 4.0\n",
      "#fsiv= 1.0\n",
      "#MAP SUM=5123.80419921875 COUNT=2220 AVE=2.3080198764801025 STD=112.5767822265625 STD_norm=29.115114212036133\n",
      "\n",
      "###Processing Target Map Resampling###\n",
      "#maxd= 4.0\n",
      "#fsiv= 1.0\n",
      "#MAP SUM=6956.66455078125 COUNT=989 AVE=7.034039497375488 STD=274.8923645019531 STD_norm=163.1942596435547\n",
      "\n"
     ]
    }
   ],
   "source": [
    "# resample the maps using mean-shift with Gaussian kernel and calculate the vector representation\n",
    "print(\"\\n###Processing Reference Map Resampling###\")\n",
    "ref_map.resample_and_vec(dreso=2)\n",
    "print(\"\\n###Processing Target Map Resampling###\")\n",
    "tgt_map.resample_and_vec(dreso=2)\n",
    "print()"
   ]
  },
  {
   "cell_type": "code",
   "execution_count": 10,
   "id": "e7b1125c",
   "metadata": {},
   "outputs": [
    {
     "name": "stdout",
     "output_type": "stream",
     "text": [
      "###Initializing fitter###\n"
     ]
    }
   ],
   "source": [
    "fitter = MapFitter(\n",
    "            ref_map,\n",
    "            tgt_map,\n",
    "            10,\n",
    "            modeVal,\n",
    "            True,\n",
    "            \"/net/kihara-fast-scratch/wang3702/DiffModeler/Predict_Result/11237/structure_modeling/LDP_2/chain_LDP.pdb\",\n",
    "            \"/net/kihara-fast-scratch/wang3702/DiffModeler/Predict_Result/11237/structure_assembling/iterative_M/backbone.pdb\",\n",
    "            \"/net/kihara-fast-scratch/wang3702/DiffModeler/Predict_Result/11237/structure_modeling/M/fit_experiment_0/PDB/#0.pdb\",\n",
    "            2,\n",
    "            True,\n",
    "            device,\n",
    "            10,\n",
    "            None,\n",
    "            None,\n",
    "            None,\n",
    "            None,\n",
    "        )"
   ]
  },
  {
   "cell_type": "code",
   "execution_count": null,
   "id": "97f2bba4",
   "metadata": {},
   "outputs": [],
   "source": [
    "%load_ext line_profiler"
   ]
  },
  {
   "cell_type": "code",
   "execution_count": null,
   "id": "a56c15dd",
   "metadata": {},
   "outputs": [],
   "source": [
    "fitter._rot_and_search_fft((30,30,30), False)"
   ]
  },
  {
   "cell_type": "code",
   "execution_count": null,
   "id": "794e64ad",
   "metadata": {},
   "outputs": [],
   "source": [
    "%%timeit\n",
    "fitter._rot_and_search_fft((30,30,30), False)"
   ]
  },
  {
   "cell_type": "code",
   "execution_count": null,
   "id": "dd9fc65c",
   "metadata": {},
   "outputs": [],
   "source": [
    "%lprun -f fitter._rot_and_search_fft fitter._rot_and_search_fft((30,30,30), False)"
   ]
  },
  {
   "cell_type": "code",
   "execution_count": null,
   "id": "8d832631",
   "metadata": {},
   "outputs": [],
   "source": [
    "import numpy as np\n",
    "from scipy.spatial.transform import Rotation as R\n",
    "rot_mtx = R.from_euler(\"xyz\", (30,30,30), degrees=True).as_matrix().astype(np.float32)"
   ]
  },
  {
   "cell_type": "code",
   "execution_count": null,
   "id": "124138ab",
   "metadata": {},
   "outputs": [],
   "source": [
    "rot_mtx = torch.from_numpy(rot_mtx).to(device)"
   ]
  },
  {
   "cell_type": "code",
   "execution_count": null,
   "id": "b58649a5",
   "metadata": {},
   "outputs": [],
   "source": [
    "%%timeit\n",
    "fitter._gpu_rot_map(fitter.tgt_map.new_data_gpu,fitter.tgt_map.vec_gpu,rot_mtx,fitter.tgt_map.search_pos_grid_gpu,fitter.device,rot_vec=(fitter.mode == \"VecProduct\"),)"
   ]
  },
  {
   "cell_type": "code",
   "execution_count": null,
   "id": "383891f8",
   "metadata": {},
   "outputs": [],
   "source": [
    "%lprun -f fitter._gpu_rot_map fitter._gpu_rot_map(fitter.tgt_map.new_data_gpu,fitter.tgt_map.vec_gpu,rot_mtx,fitter.tgt_map.search_pos_grid_gpu,fitter.device,rot_vec=(fitter.mode == \"VecProduct\"),)"
   ]
  },
  {
   "cell_type": "code",
   "execution_count": null,
   "id": "e1226cdf",
   "metadata": {},
   "outputs": [],
   "source": [
    "def _axis_angle_rotation(axis: str, angle: torch.Tensor) -> torch.Tensor:\n",
    "    \"\"\"\n",
    "    Return the rotation matrices for one of the rotations about an axis\n",
    "    of which Euler angles describe, for each value of the angle given.\n",
    "\n",
    "    Args:\n",
    "        axis: Axis label \"X\" or \"Y or \"Z\".\n",
    "        angle: any shape tensor of Euler angles in radians\n",
    "\n",
    "    Returns:\n",
    "        Rotation matrices as tensor of shape (..., 3, 3).\n",
    "    \"\"\"\n",
    "\n",
    "    cos = torch.cos(angle)\n",
    "    sin = torch.sin(angle)\n",
    "    one = torch.ones_like(angle)\n",
    "    zero = torch.zeros_like(angle)\n",
    "\n",
    "    if axis == \"X\":\n",
    "        R_flat = (one, zero, zero, zero, cos, -sin, zero, sin, cos)\n",
    "    elif axis == \"Y\":\n",
    "        R_flat = (cos, zero, sin, zero, one, zero, -sin, zero, cos)\n",
    "    elif axis == \"Z\":\n",
    "        R_flat = (cos, -sin, zero, sin, cos, zero, zero, zero, one)\n",
    "    else:\n",
    "        raise ValueError(\"letter must be either X, Y or Z.\")\n",
    "\n",
    "    return torch.stack(R_flat, -1).reshape(angle.shape + (3, 3))\n",
    "\n",
    "def euler_angles_to_matrix(euler_angles: torch.Tensor, convention: str) -> torch.Tensor:\n",
    "    \"\"\"\n",
    "    Convert rotations given as Euler angles in radians to rotation matrices.\n",
    "\n",
    "    Args:\n",
    "        euler_angles: Euler angles in radians as tensor of shape (..., 3).\n",
    "        convention: Convention string of three uppercase letters from\n",
    "            {\"X\", \"Y\", and \"Z\"}.\n",
    "\n",
    "    Returns:\n",
    "        Rotation matrices as tensor of shape (..., 3, 3).\n",
    "    \"\"\"\n",
    "    if euler_angles.dim() == 0 or euler_angles.shape[-1] != 3:\n",
    "        raise ValueError(\"Invalid input euler angles.\")\n",
    "    if len(convention) != 3:\n",
    "        raise ValueError(\"Convention must have 3 letters.\")\n",
    "    if convention[1] in (convention[0], convention[2]):\n",
    "        raise ValueError(f\"Invalid convention {convention}.\")\n",
    "    for letter in convention:\n",
    "        if letter not in (\"X\", \"Y\", \"Z\"):\n",
    "            raise ValueError(f\"Invalid letter {letter} in convention string.\")\n",
    "    matrices = [\n",
    "        _axis_angle_rotation(c, e)\n",
    "        for c, e in zip(convention, torch.unbind(euler_angles, -1))\n",
    "    ]\n",
    "    # return functools.reduce(torch.matmul, matrices)\n",
    "    return torch.matmul(torch.matmul(matrices[0], matrices[1]), matrices[2])"
   ]
  },
  {
   "cell_type": "code",
   "execution_count": null,
   "id": "d7f4a764",
   "metadata": {},
   "outputs": [],
   "source": [
    "R.from_euler(\"xyz\", (30,30,30), degrees=True).as_matrix()"
   ]
  },
  {
   "cell_type": "code",
   "execution_count": null,
   "id": "99e2d7fc",
   "metadata": {},
   "outputs": [],
   "source": [
    "euler_angles_to_matrix(torch.tensor(np.radians(np.array((30,30,30)))), \"ZYX\")"
   ]
  },
  {
   "cell_type": "code",
   "execution_count": null,
   "id": "d5fe48f8",
   "metadata": {},
   "outputs": [],
   "source": [
    "scalene main.py \n",
    " 22 files changed, 6285 insertions(+), 162 deletions(-)\n",
    " delete mode 100644 config/__init__.py"
   ]
  }
 ],
 "metadata": {
  "kernelspec": {
   "display_name": "Python 3",
   "language": "python",
   "name": "python3"
  },
  "language_info": {
   "codemirror_mode": {
    "name": "ipython",
    "version": 3
   },
   "file_extension": ".py",
   "mimetype": "text/x-python",
   "name": "python",
   "nbconvert_exporter": "python",
   "pygments_lexer": "ipython3",
   "version": "3.10.6"
  }
 },
 "nbformat": 4,
 "nbformat_minor": 5
}
