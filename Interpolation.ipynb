{
 "cells": [
  {
   "cell_type": "markdown",
   "metadata": {
    "collapsed": true
   },
   "source": [
    "To use this code, you must have Emap2sec+ predictions in a numpy file (.npy). "
   ]
  },
  {
   "cell_type": "code",
   "execution_count": null,
   "metadata": {
    "collapsed": true
   },
   "outputs": [],
   "source": [
    "%matplotlib inline\n",
    "import numpy as np\n",
    "from mpl_toolkits.mplot3d import axes3d\n",
    "import matplotlib.pyplot as plt\n",
    "from matplotlib import cm\n",
    "import os\n",
    "import mrcfile"
   ]
  },
  {
   "cell_type": "markdown",
   "metadata": {},
   "source": [
    "Use this to check where predictions are placed."
   ]
  },
  {
   "cell_type": "code",
   "execution_count": null,
   "metadata": {
    "collapsed": true
   },
   "outputs": [],
   "source": [
    "orig = np.load('9515_E_prediction.npy')\n",
    "map_0 = np.zeros((orig.shape[0], orig.shape[1], orig.shape[2]), dtype=float)\n",
    "for i in range(orig.shape[0]):\n",
    "    for j in range(orig.shape[1]):\n",
    "        for k in range(orig.shape[2]):\n",
    "            map_0[i, j, k] = orig[i, j, k, 1]\n",
    "            if (map_0[i, j, k] > 0):\n",
    "                print(i, j, k)"
   ]
  },
  {
   "cell_type": "code",
   "execution_count": 3,
   "metadata": {
    "collapsed": false
   },
   "outputs": [
    {
     "name": "stdout",
     "output_type": "stream",
     "text": [
      "98\n",
      "80\n",
      "125\n",
      "4\n",
      "87248\n"
     ]
    }
   ],
   "source": [
    "data = np.load('9515_E_prediction.npy')\n",
    "np.set_printoptions(precision=3)\n",
    "\n",
    "print(data.shape[0])\n",
    "print(data.shape[1])\n",
    "print(data.shape[2])\n",
    "print(data.shape[3])\n",
    "print(np.count_nonzero(data))"
   ]
  },
  {
   "cell_type": "markdown",
   "metadata": {},
   "source": [
    "At its current state, we have to change each index manually after checking if the predictions are placed at even or odd indices."
   ]
  },
  {
   "cell_type": "code",
   "execution_count": 9,
   "metadata": {
    "collapsed": false
   },
   "outputs": [
    {
     "name": "stdout",
     "output_type": "stream",
     "text": [
      "CPU times: user 7min 1s, sys: 668 ms, total: 7min 2s\n",
      "Wall time: 7min 3s\n"
     ]
    }
   ],
   "source": [
    "%%time\n",
    "#Single odd/even index\n",
    "for i in range(0, data.shape[0]-1, 2):\n",
    "    for j in range(1, data.shape[1]-1, 2):\n",
    "        for k in range(1, data.shape[2]-1, 2):\n",
    "            for l in range(data.shape[3]):\n",
    "                if (data[i, j, k, l] == 0):\n",
    "                    avg = 0\n",
    "                    avg += data[i+1, j, k, l]\n",
    "                    avg += data[i-1, j, k, l]\n",
    "                    avg = avg / float(2)\n",
    "                    data[i, j, k, l] = avg\n",
    "\n",
    "                    \n",
    "for j in range(0, data.shape[1]-1, 2):\n",
    "    for i in range(1, data.shape[0]-1, 2):\n",
    "        for k in range(1, data.shape[2]-1, 2):\n",
    "            for l in range(data.shape[3]):\n",
    "                if (data[i, j, k, l] == 0):\n",
    "                    avg = 0\n",
    "                    avg += data[i, j+1, k, l]\n",
    "                    avg += data[i, j-1, k, l]\n",
    "                    avg = avg / float(2)\n",
    "                    data[i, j, k, l] = avg\n",
    "\n",
    "\n",
    "for k in range(0, data.shape[2]-1, 2):\n",
    "    for i in range(1, data.shape[0]-1, 2):\n",
    "        for j in range(1, data.shape[1]-1, 2):\n",
    "            for l in range(data.shape[3]):\n",
    "                if (data[i, j, k, l] == 0):\n",
    "                    avg = 0\n",
    "                    avg += data[i, j, k+1, l]\n",
    "                    avg += data[i, j, k-1, l]\n",
    "                    avg = avg / float(2)\n",
    "                    data[i, j, k, l] = avg\n",
    "\n",
    "\n",
    "#Two odd/even indices\n",
    "for i in range(0, data.shape[0]-1, 2):\n",
    "    for j in range(0, data.shape[1]-1, 2):\n",
    "        for k in range(1, data.shape[2]-1, 2):\n",
    "            for l in range(data.shape[3]):\n",
    "                if (data[i, j, k, l] == 0):\n",
    "                    avg = 0\n",
    "                    avg += data[i+1, j, k, l]\n",
    "                    avg += data[i-1, j, k, l]\n",
    "                    avg += data[i, j+1, k, l]\n",
    "                    avg += data[i, j-1, k, l]\n",
    "                    avg = avg / float(4)\n",
    "                    data[i, j, k, l] = avg\n",
    "\n",
    "\n",
    "for i in range(0, data.shape[0]-1, 2):\n",
    "    for k in range(0, data.shape[2]-1, 2):\n",
    "        for j in range(1, data.shape[1]-1, 2):\n",
    "            for l in range(data.shape[3]):\n",
    "                if (data[i, j, k, l] == 0):\n",
    "                    avg = 0\n",
    "                    avg += data[i+1, j, k, l]\n",
    "                    avg += data[i-1, j, k, l]\n",
    "                    avg += data[i, j, k+1, l]\n",
    "                    avg += data[i, j, k-1, l]\n",
    "                    avg = avg / float(4)\n",
    "                    data[i, j, k, l] = avg\n",
    "\n",
    "\n",
    "for j in range(0, data.shape[1]-1, 2):\n",
    "    for k in range(0, data.shape[2]-1, 2):\n",
    "        for i in range(1, data.shape[0]-1, 2):\n",
    "            for l in range(data.shape[3]):\n",
    "                if (data[i, j, k, l] == 0):\n",
    "                    avg = 0\n",
    "                    avg += data[i, j+1, k, l]\n",
    "                    avg += data[i, j-1, k, l]\n",
    "                    avg += data[i, j, k+1, l]\n",
    "                    avg += data[i, j, k-1, l]\n",
    "                    avg = avg / float(4)\n",
    "                    data[i, j, k, l] = avg\n",
    "\n",
    "\n",
    "#Three odd/even indices\n",
    "for i in range(0, data.shape[0]-1, 2):\n",
    "    for j in range(0, data.shape[1]-1, 2):\n",
    "        for k in range(0, data.shape[2]-1, 2):\n",
    "            for l in range(data.shape[3]):\n",
    "                if (data[i, j, k, l] == 0):\n",
    "                    avg = 0\n",
    "                    avg += data[i+1, j, k, l]\n",
    "                    avg += data[i-1, j, k, l]\n",
    "                    avg += data[i, j+1, k, l]\n",
    "                    avg += data[i, j-1, k, l]\n",
    "                    avg += data[i, j, k+1, l]\n",
    "                    avg += data[i, j, k-1, l]\n",
    "                    avg = avg / float(6)\n",
    "                    data[i, j, k, l] = avg"
   ]
  },
  {
   "cell_type": "code",
   "execution_count": 14,
   "metadata": {
    "collapsed": true
   },
   "outputs": [],
   "source": [
    "np.save('interpolated_prediction_9515_E', data)"
   ]
  },
  {
   "cell_type": "code",
   "execution_count": 15,
   "metadata": {
    "collapsed": true
   },
   "outputs": [],
   "source": [
    "interpolated = np.load('interpolated_prediction_9515_E.npy')"
   ]
  },
  {
   "cell_type": "code",
   "execution_count": null,
   "metadata": {
    "collapsed": true
   },
   "outputs": [],
   "source": [
    "# to ensure maps were correctly saved\n",
    "for i in range(interpolated.shape[0]):\n",
    "    for j in range(interpolated.shape[1]):\n",
    "        for k in range(interpolated.shape[2]):\n",
    "            if (orig[i, j, k, 0] == 0):\n",
    "                if (chain_a[i, j, k, 0] > 0):\n",
    "                    print(i, j, k, chain_a[i, j, k, ])"
   ]
  },
  {
   "cell_type": "markdown",
   "metadata": {},
   "source": [
    "To visualize, run the code for each map."
   ]
  },
  {
   "cell_type": "code",
   "execution_count": 7,
   "metadata": {
    "collapsed": true
   },
   "outputs": [],
   "source": [
    "def conv_prediction_to_mrc(arr,reffile,keyidx,outmapfile):      \n",
    "    with mrcfile.open(reffile) as mrc:\n",
    "        nx,ny,nz = arr.shape[0], arr.shape[1], arr.shape[2]\n",
    "        mx,my,mz,cella = mrc.header.mx,mrc.header.my,mrc.header.mz, mrc.header.cella\n",
    "        \n",
    "        \n",
    "        mrc_new = mrcfile.new(outmapfile,overwrite=True)\n",
    "        \n",
    "        mrc_new.set_data(np.zeros((nz, ny, nx), dtype=np.float32))\n",
    "        mrc_new.header.nxstart=arr.shape[0]\n",
    "        mrc_new.header.nystart=arr.shape[1]\n",
    "        mrc_new.header.nzstart=arr.shape[2]\n",
    "        mrc_new.header.origin.x = mrc.header.origin.x\n",
    "        mrc_new.header.origin.y = mrc.header.origin.y\n",
    "        mrc_new.header.origin.z = mrc.header.origin.z\n",
    "        mrc_new.header.cella['x'] = cella['x']\n",
    "        mrc_new.header.cella['y'] = cella['y']\n",
    "        mrc_new.header.cella['z'] = cella['z']\n",
    "        \n",
    "        print(nx, ny, nz)\n",
    "        for i in range(nx - 2):\n",
    "            for j in range(ny - 2):\n",
    "                for k in range(nz - 2):\n",
    "                    mrc_new.data[k, j, i] = arr[i, j, k, keyidx]\n",
    "        \n",
    "        vsize=mrc_new.voxel_size\n",
    "        vsize.flags.writeable = True\n",
    "        mrc_new.voxel_size=vsize         \n",
    "        \n",
    "        mrc_new.update_header_stats()\n",
    "        \n",
    "        print(\"original\", mrc.voxel_size)\n",
    "        mrc.print_header()\n",
    "\n",
    "        print()\n",
    "        \n",
    "        print(\"new\", mrc_new.voxel_size)\n",
    "        mrc_new.print_header()\n",
    "\n",
    "        print()\n",
    "        \n",
    "        mrc_new.close()"
   ]
  },
  {
   "cell_type": "code",
   "execution_count": 16,
   "metadata": {
    "collapsed": false
   },
   "outputs": [
    {
     "name": "stdout",
     "output_type": "stream",
     "text": [
      "98 80 125\n",
      "original (1., 1., 1.)\n",
      "nx              : 125\n",
      "ny              : 80\n",
      "nz              : 98\n",
      "mode            : 2\n",
      "nxstart         : 0\n",
      "nystart         : 0\n",
      "nzstart         : 0\n",
      "mx              : 125\n",
      "my              : 80\n",
      "mz              : 98\n",
      "cella           : (125., 80., 98.)\n",
      "cellb           : (90., 90., 90.)\n",
      "mapc            : 1\n",
      "mapr            : 2\n",
      "maps            : 3\n",
      "dmin            : 0.0\n",
      "dmax            : 0.5443896651268005\n",
      "dmean           : 0.008815660141408443\n",
      "ispg            : 1\n",
      "nsymbt          : 0\n",
      "extra1          : b'\\x00\\x00\\x00\\x00\\x00\\x00\\x00\\x00'\n",
      "exttyp          : b''\n",
      "nversion        : 20140\n",
      "extra2          : b'\\x00\\x00\\x00\\x00\\x00\\x00\\x00\\x00\\x00\\x00\\x00\\x00\\x00\\x00\\x00\\x00\\x00\\x00\\x00\\x00\\x00\\x00\\x00\\x00\\x00\\x00\\x00\\x00\\x00\\x00\\x00\\x00\\x00\\x00\\x00\\x00\\x00\\x00\\x00\\x00\\x00\\x00\\x00\\x00\\x00\\x00\\x00\\x00\\x00\\x00\\x00\\x00\\x00\\x00\\x00\\x00\\x00\\x00\\x00\\x00\\x00\\x00\\x00\\x00\\x00\\x00\\x00\\x00\\x00\\x00\\x00\\x00\\x00\\x00\\x00\\x00\\x00\\x00\\x00\\x00\\x00\\x00\\x00\\x00'\n",
      "origin          : (116.58, 134.889, 79.816)\n",
      "map             : b'MAP '\n",
      "machst          : [68 68  0  0]\n",
      "rms             : 0.04772797226905823\n",
      "nlabl           : 1\n",
      "label           : [b'Created by mrcfile.py                                       2021-11-30 21:27:09 '\n",
      " b'' b'' b'' b'' b'' b'' b'' b'' b'']\n",
      "\n",
      "new (1.276, 1., 0.784)\n",
      "nx              : 98\n",
      "ny              : 80\n",
      "nz              : 125\n",
      "mode            : 2\n",
      "nxstart         : 98\n",
      "nystart         : 80\n",
      "nzstart         : 125\n",
      "mx              : 98\n",
      "my              : 80\n",
      "mz              : 125\n",
      "cella           : (125., 80., 98.)\n",
      "cellb           : (90., 90., 90.)\n",
      "mapc            : 1\n",
      "mapr            : 2\n",
      "maps            : 3\n",
      "dmin            : 0.0\n",
      "dmax            : 0.9999762773513794\n",
      "dmean           : 0.02744617499411106\n",
      "ispg            : 1\n",
      "nsymbt          : 0\n",
      "extra1          : b'\\x00\\x00\\x00\\x00\\x00\\x00\\x00\\x00'\n",
      "exttyp          : b''\n",
      "nversion        : 20140\n",
      "extra2          : b'\\x00\\x00\\x00\\x00\\x00\\x00\\x00\\x00\\x00\\x00\\x00\\x00\\x00\\x00\\x00\\x00\\x00\\x00\\x00\\x00\\x00\\x00\\x00\\x00\\x00\\x00\\x00\\x00\\x00\\x00\\x00\\x00\\x00\\x00\\x00\\x00\\x00\\x00\\x00\\x00\\x00\\x00\\x00\\x00\\x00\\x00\\x00\\x00\\x00\\x00\\x00\\x00\\x00\\x00\\x00\\x00\\x00\\x00\\x00\\x00\\x00\\x00\\x00\\x00\\x00\\x00\\x00\\x00\\x00\\x00\\x00\\x00\\x00\\x00\\x00\\x00\\x00\\x00\\x00\\x00\\x00\\x00\\x00\\x00'\n",
      "origin          : (116.58, 134.889, 79.816)\n",
      "map             : b'MAP '\n",
      "machst          : [68 68  0  0]\n",
      "rms             : 0.10406463593244553\n",
      "nlabl           : 1\n",
      "label           : [b'Created by mrcfile.py                                       2021-12-12 12:30:17 '\n",
      " b'' b'' b'' b'' b'' b'' b'' b'' b'']\n",
      "\n",
      "CPU times: user 544 ms, sys: 19.1 ms, total: 563 ms\n",
      "Wall time: 570 ms\n"
     ]
    }
   ],
   "source": [
    "%%time\n",
    "conv_prediction_to_mrc(interpolated, '9515_E.mrc', 3, 'interpolated_prediction_9515_E_3.mrc')"
   ]
  }
 ],
 "metadata": {
  "kernelspec": {
   "display_name": "Python 3",
   "language": "python",
   "name": "python3"
  },
  "language_info": {
   "codemirror_mode": {
    "name": "ipython",
    "version": 3
   },
   "file_extension": ".py",
   "mimetype": "text/x-python",
   "name": "python",
   "nbconvert_exporter": "python",
   "pygments_lexer": "ipython3",
   "version": "3.6.9"
  }
 },
 "nbformat": 4,
 "nbformat_minor": 2
}
